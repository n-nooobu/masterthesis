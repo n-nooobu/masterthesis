{
 "cells": [
  {
   "cell_type": "code",
   "execution_count": 2,
   "metadata": {},
   "outputs": [],
   "source": [
    "import numpy as np\n",
    "import matplotlib.pyplot as plt\n",
    "from pyopt.utis import load_pickle"
   ]
  },
  {
   "cell_type": "code",
   "execution_count": null,
   "metadata": {},
   "outputs": [],
   "source": [
    "result = np.loadtxt('result/result103a_30.csv', delimiter=',')\n",
    "\n",
    "n = np.arange(1, 30, 2)\n",
    "fig = plt.figure(figsize=(12, 6))\n",
    "ax = fig.add_subplot()\n",
    "line, = ax.plot(n, result[0], '-s', color=[31/255, 119/255, 180/255], label='PRBS16(ANN trained on PRBS16)')\n",
    "line, = ax.plot(n, result[1], '--', color=[31/255, 119/255, 180/255], label='PRBS16(linear compensation and phase rotation)')\n",
    "line, = ax.plot(n, result[2], '-s', color=[255/255, 127/255, 14/255], label='PRBS17(ANN trained on PRBS16)')\n",
    "line, = ax.plot(n, result[3], '--', color=[255/255, 127/255, 14/255], label='PRBS17(linear compensation and phase rotation)')\n",
    "line, = ax.plot(n, result[4], '-s', color=[44/255, 160/255, 44/255], label='image0(ANN trained on PRBS16)')\n",
    "line, = ax.plot(n, result[5], '--', color=[44/255, 160/255, 44/255], label='image0(linear compensation and phase rotation)')\n",
    "line, = ax.plot(n, result[6], '-s', color=[214/255, 39/255, 40/255], label='image9(ANN trained on PRBS16)')\n",
    "line, = ax.plot(n, result[7], '--', color=[214/255, 39/255, 40/255], label='image9(linear compensation and phase rotation)')\n",
    "line, = ax.plot(n, result[8], '-s', color=[180/255, 167/255, 27/255], label='random(ANN trained on PRBS16)')\n",
    "line, = ax.plot(n, result[9], '--', color=[180/255, 167/255, 27/255], label='random(linear compensation and phase rotation)')\n",
    "plt.legend(bbox_to_anchor=(1.00, 1), loc='upper left', borderaxespad=0)\n",
    "plt.xlabel('Number of input symbols')\n",
    "plt.ylabel('EVM[%]')\n",
    "# ax.set_ylim((18, 33))\n",
    "ax.xaxis.set_tick_params(direction='in')\n",
    "ax.yaxis.set_tick_params(direction='in')\n",
    "plt.subplots_adjust(left=0.05, bottom=0.10, right=0.60, top=0.95)\n",
    "plt.show()"
   ]
  }
 ],
 "metadata": {
  "kernelspec": {
   "display_name": "Python 3",
   "language": "python",
   "name": "python3"
  },
  "language_info": {
   "codemirror_mode": {
    "name": "ipython",
    "version": 3
   },
   "file_extension": ".py",
   "mimetype": "text/x-python",
   "name": "python",
   "nbconvert_exporter": "python",
   "pygments_lexer": "ipython3",
   "version": "3.6.8"
  }
 },
 "nbformat": 4,
 "nbformat_minor": 4
}
