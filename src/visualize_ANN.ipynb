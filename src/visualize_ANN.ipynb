{
 "cells": [
  {
   "cell_type": "markdown",
   "metadata": {},
   "source": [
    "# コンスタレーション"
   ]
  },
  {
   "cell_type": "code",
   "execution_count": 82,
   "metadata": {},
   "outputs": [],
   "source": [
    "#import\n",
    "import sys\n",
    "\n",
    "import pandas as pd\n",
    "import numpy as np\n",
    "import matplotlib.pyplot as plt\n",
    "%matplotlib inline\n",
    "\n",
    "import torch\n",
    "import torch.nn as nn\n",
    "import torch.nn.functional as F\n",
    "import torch.optim as optim\n",
    "import torch.utils.data as data\n",
    "import torchvision\n",
    "from torchvision import models, transforms\n",
    "\n",
    "sys.path.append('../')\n",
    "from pyopt.util import save_pickle, load_pickle"
   ]
  },
  {
   "cell_type": "markdown",
   "metadata": {},
   "source": [
    "# 1. ANN定義"
   ]
  },
  {
   "cell_type": "code",
   "execution_count": 5,
   "metadata": {},
   "outputs": [],
   "source": [
    "def data_shaping(input_signal, signal, max_tap, tap):\n",
    "    \"\"\"\n",
    "    input_signal: 伝送前の信号\n",
    "    signal: 伝送後の信号\n",
    "    max_tap: 最大の同時入力シンボル数\n",
    "    tap: 同時入力シンボル数\n",
    "    \n",
    "    signal = [x_0, x_1, ... , x_(n-1)]\n",
    "      |\n",
    "      |\n",
    "      v\n",
    "    x = [[x_0, x_1, ... , x_tap-1],\n",
    "            [x_1, x_2, ..., x_tap],\n",
    "                   .\n",
    "                   .\n",
    "                   .\n",
    "            [x_(n-tap), x_(n-tap+1), ..., x(n-1)]]\n",
    "      |\n",
    "      |\n",
    "      v\n",
    "    x = [[i_0, q_0, i_1, q_1, ... , i_(tap-1), q_(tap-1)],\n",
    "            [i_1, q_1, i_2, q_2, ... , i_tap, q_tap],\n",
    "                   .\n",
    "                   .\n",
    "                   .\n",
    "            [i_(n-tap), q_(n-tap), i_(n-tap+1), q_(n-tap+1), ..., i_(n-1), q_(n-1)]] (batch, input_dim) input_dim = tap * 2\n",
    "    \n",
    "    y  (batch, output_dim) output_dim = 2\n",
    "    \"\"\"\n",
    "    \n",
    "    x = np.zeros((len(input_signal) - (max_tap - 1), tap * 2), dtype=float)\n",
    "    y = np.zeros((len(input_signal) - (max_tap - 1), 2), dtype=float)\n",
    "    for i, j in enumerate(np.arange(max_tap // 2, len(input_signal) - max_tap // 2)):\n",
    "        x[i, 0::2] = signal[j - tap // 2: j + tap // 2 + 1].real\n",
    "        x[i, 1::2] = signal[j - tap // 2: j + tap // 2 + 1].imag\n",
    "        y[i, 0] = input_signal[j].real\n",
    "        y[i, 1] = input_signal[j].imag\n",
    "    return x, y"
   ]
  },
  {
   "cell_type": "code",
   "execution_count": 6,
   "metadata": {},
   "outputs": [],
   "source": [
    "class Dataset(data.Dataset):\n",
    "    def __init__(self, x, y, mean, std):\n",
    "        self.x, self.y, self.mean, self.std = x, y, mean, std\n",
    "    \n",
    "    def __len__(self):\n",
    "        return len(self.x)\n",
    "    \n",
    "    def __getitem__(self, index):\n",
    "        x = self.x[index]\n",
    "        y = self.y[index]\n",
    "        \n",
    "        x = (x - self.mean) / self.std\n",
    "        y = (y - self.mean) / self.std\n",
    "        return torch.Tensor(x), torch.Tensor(y)"
   ]
  },
  {
   "cell_type": "code",
   "execution_count": 7,
   "metadata": {},
   "outputs": [],
   "source": [
    "class ANN(nn.Module):\n",
    "    def __init__(self, input_dim, output_dim, hidden_neuron):\n",
    "        super(ANN, self).__init__()\n",
    "        self.fc1 = nn.Linear(input_dim, hidden_neuron)\n",
    "        self.fc2 = nn.Linear(hidden_neuron, output_dim)\n",
    "    \n",
    "    def forward(self, x):\n",
    "        x = F.relu(self.fc1(x))\n",
    "        x = self.fc2(x)\n",
    "        return x"
   ]
  },
  {
   "cell_type": "code",
   "execution_count": 8,
   "metadata": {},
   "outputs": [],
   "source": [
    "def evm_score(y_pred, y_true):\n",
    "    tmp = 0\n",
    "    for i in range(len(y_pred)):\n",
    "        tmp += ((y_pred[i][0] - y_true[i][0]) ** 2 + (y_pred[i][1] - y_true[i][1]) ** 2) / (y_true[i][0] ** 2 + y_true[i][1] ** 2)\n",
    "    evm = torch.sqrt(tmp / len(y_pred))\n",
    "    return evm"
   ]
  },
  {
   "cell_type": "code",
   "execution_count": 9,
   "metadata": {},
   "outputs": [],
   "source": [
    "def train_model(device, model, dataloaders_dict, criterion, optimizer, epochs, epochs_section=None):\n",
    "    for epoch in range(epochs):\n",
    "        if epochs_section is not None:\n",
    "            epoch += epochs_section[0]\n",
    "            end_epoch = epochs_section[1]\n",
    "        else:\n",
    "            end_epoch = epochs\n",
    "        \n",
    "        start_time = time.time()\n",
    "        \n",
    "        for phase in dataloaders_dict.keys():\n",
    "            if phase == 'train':\n",
    "                model.train()\n",
    "            else:\n",
    "                model.eval()\n",
    "            \n",
    "            epoch_loss = 0.0\n",
    "            epoch_evms = 0.0\n",
    "            \n",
    "            for x, y in dataloaders_dict[phase]:\n",
    "                x = x.to(device)\n",
    "                y = y.to(device)\n",
    "                \n",
    "                optimizer.zero_grad()\n",
    "                \n",
    "                with torch.set_grad_enabled(phase == 'train'):\n",
    "                    outputs = model(x)\n",
    "                    loss = criterion(outputs, y)\n",
    "                    \n",
    "                    if phase == 'train':\n",
    "                        loss.backward()\n",
    "                        optimizer.step()\n",
    "                    \n",
    "                    epoch_loss += loss.item() * x.size(0)\n",
    "                    epoch_evms += (evm_score(outputs, y)) ** 2 * x.size(0)\n",
    "            \n",
    "            epoch_loss = epoch_loss / len(dataloaders_dict[phase].dataset)\n",
    "            epoch_evm = torch.sqrt(epoch_evms / len(dataloaders_dict[phase].dataset)) * 100\n",
    "            \n",
    "            duration = str(datetime.timedelta(seconds=time.time() - start_time))[:7]\n",
    "            print('{} | Epoch: {}/{} | {} Loss: {:.4} | EVM: {:.4}'.format(duration, epoch + 1, end_epoch, phase, epoch_loss, epoch_evm))\n",
    "    return model"
   ]
  },
  {
   "cell_type": "markdown",
   "metadata": {},
   "source": [
    "# 2. 可視化"
   ]
  },
  {
   "cell_type": "markdown",
   "metadata": {},
   "source": [
    "## 2.1 データ読み込み"
   ]
  },
  {
   "cell_type": "code",
   "execution_count": 74,
   "metadata": {},
   "outputs": [],
   "source": [
    "def prepare_val_data(N, image_number='0', signal_type='image'):\n",
    "    # t_condition 伝送条件\n",
    "    signal_type = 'image'\n",
    "    form = 'RZ16QAM'  # 変調方式\n",
    "    n = 32  # 1シンボルあたりのサンプリング数[/symbol]\n",
    "    equalize = False  # 各シンボル数を均等にするか\n",
    "    baudrate = 28  # ボーレート[GBaud]\n",
    "    PdBm = 1  # 平均入力光パワー[dBm]\n",
    "    Ledfa = 100  # EDFAスパン[km]\n",
    "    stepedfa = 30  # SSFMの繰り返し計算ステップ数\n",
    "    gamma = 1.4  # 非線形係数[/W/km]\n",
    "    D = 16  # 分散パラメータ[ps/nm/km]\n",
    "    Alpha = 0.16  # 伝送損失[dB/km]\n",
    "    NF = 4  # ASE雑音指数[dB]\n",
    "    Lmax = 500  # 伝送距離[km]\n",
    "    ase = True  # ASE雑音を考慮するか\n",
    "    if signal_type == 'prbs':\n",
    "        # N = 13  # PRBSの次数\n",
    "        itr = 1  # PRBSの繰り返し回数\n",
    "    elif signal_type == 'random':\n",
    "        seed = 1234  # 乱数シード\n",
    "        bit_num = 10000  # ビット長を指定\n",
    "    elif signal_type == 'image':\n",
    "        target_dir = 'train'\n",
    "        step = 10  # =10 ---> (768, 1024) ---> (76, 102)\n",
    "        image_number = '0'\n",
    "        ebtb = True  # 8B10Bを行うか\n",
    "\n",
    "    # prbs.csv or random.csv or image.csvの列指定に用いる文字列\n",
    "    t_condition = 'form==\"'+str(form)+'\"&n=='+str(n)+'&equalize=='+str(equalize)+'&baudrate=='+str(baudrate)+'&PdBm=='+str(PdBm)+'&Ledfa=='+str(Ledfa)+'&stepedfa=='+str(stepedfa)+'&\\\n",
    "                            gamma=='+str(gamma)+'&D=='+str(D)+'&Alpha=='+str(Alpha)+'&NF=='+str(NF)+'&ase=='+str(ase)\n",
    "    if signal_type == 'prbs':\n",
    "        condition = 'N=='+str(N)+'&itr=='+str(itr)\n",
    "    elif signal_type == 'random':\n",
    "        condition = 'seed=='+str(seed)+'&bit_num=='+str(bit_num)\n",
    "    elif signal_type == 'image':\n",
    "        condition = 'target_dir==\"'+target_dir+'\"&step=='+str(step)+'&image_number==\"'+image_number+'\"&ebtb=='+str(ebtb)\n",
    "\n",
    "    # prbs.csv or random.csv or image.csvをpandasで読み込む\n",
    "    t_df_dir = '../data/input/'\n",
    "    t_df = pd.read_csv(t_df_dir+signal_type+'.csv', index_col=0)\n",
    "\n",
    "    # prbs.csv or random.csv or image.csvにおいて、指定した伝送条件を見たす行を抜き出す\n",
    "    t_query = t_df.query(condition + '&' + t_condition)\n",
    "\n",
    "    # 伝送信号を入力データに整形する\n",
    "    sgnl = load_pickle(t_query.iloc[0]['data_path'])\n",
    "    lc = sgnl.linear_compensation(Lmax, sgnl.signal['x_' + str(Lmax)])\n",
    "    x, y = data_shaping(sgnl.signal['x_0'][n//2::n], lc[n//2::n], max_tap, tap)\n",
    "    return x, y"
   ]
  },
  {
   "cell_type": "markdown",
   "metadata": {},
   "source": [
    "## 2.2 Model読み込み"
   ]
  },
  {
   "cell_type": "code",
   "execution_count": 80,
   "metadata": {},
   "outputs": [
    {
     "name": "stdout",
     "output_type": "stream",
     "text": [
      "Device available now: cpu\n"
     ]
    }
   ],
   "source": [
    "device = torch.device('cpu') # 'cuda' if torch.cuda.is_available() else \n",
    "print('Device available now:', device)\n",
    "\n",
    "# l_condition 学習条件\n",
    "tap = 1\n",
    "max_tap = 501\n",
    "batch_size = 100\n",
    "neuron = 300\n",
    "epochs = 100\n",
    "lr = 0.001\n",
    "\n",
    "# t_condition 伝送条件\n",
    "signal_type = 'image'\n",
    "form = 'RZ16QAM'  # 変調方式\n",
    "n = 32  # 1シンボルあたりのサンプリング数[/symbol]\n",
    "equalize = False  # 各シンボル数を均等にするか\n",
    "baudrate = 28  # ボーレート[GBaud]\n",
    "PdBm = 1  # 平均入力光パワー[dBm]\n",
    "Ledfa = 100  # EDFAスパン[km]\n",
    "stepedfa = 30  # SSFMの繰り返し計算ステップ数\n",
    "gamma = 1.4  # 非線形係数[/W/km]\n",
    "D = 16  # 分散パラメータ[ps/nm/km]\n",
    "Alpha = 0.16  # 伝送損失[dB/km]\n",
    "NF = 4  # ASE雑音指数[dB]\n",
    "Lmax = 500  # 伝送距離[km]\n",
    "ase = True  # ASE雑音を考慮するか\n",
    "if signal_type == 'prbs':\n",
    "    N = 13  # PRBSの次数\n",
    "    itr = 1  # PRBSの繰り返し回数\n",
    "elif signal_type == 'random':\n",
    "    seed = 1234  # 乱数シード\n",
    "    bit_num = 10000  # ビット長を指定\n",
    "elif signal_type == 'image':\n",
    "    target_dir = 'train'\n",
    "    step = 10  # =10 ---> (768, 1024) ---> (76, 102)\n",
    "    image_number = '0'\n",
    "    ebtb = True  # 8B10Bを行うか\n",
    "\n",
    "# ANN.csvの列指定に用いる文字列\n",
    "l_condition = 'tap=='+str(tap)+'&max_tap=='+str(max_tap)+'&batch_size=='+str(batch_size)+'&neuron=='+str(neuron)+'&learning_rate=='+str(lr)\n",
    "t_condition = 'form==\"'+str(form)+'\"&n=='+str(n)+'&equalize=='+str(equalize)+'&baudrate=='+str(baudrate)+'&PdBm=='+str(PdBm)+'&Ledfa=='+str(Ledfa)+'&stepedfa=='+str(stepedfa)+'&\\\n",
    "                        gamma=='+str(gamma)+'&D=='+str(D)+'&Alpha=='+str(Alpha)+'&NF=='+str(NF)+'&ase=='+str(ase)\n",
    "if signal_type == 'prbs':\n",
    "    condition = 'N=='+str(N)+'&itr=='+str(itr)\n",
    "elif signal_type == 'random':\n",
    "    condition = 'seed=='+str(seed)+'&bit_num=='+str(bit_num)\n",
    "elif signal_type == 'image':\n",
    "    condition = 'target_dir==\"'+target_dir+'\"&step=='+str(step)+'&image_number==\"'+image_number+'\"&ebtb=='+str(ebtb)\n",
    "\n",
    "# ANN.csvをpandasで読み込む\n",
    "l_df_dir = '../data/params/ANN.csv'\n",
    "l_df = pd.read_csv(l_df_dir, index_col=0)\n",
    "\n",
    "# ANN.csvにおいて、指定した条件を満たす行だけqueryとして抜き出す\n",
    "l_query = l_df.query(l_condition + '&' + condition + '&' + t_condition + '&Lmax=='+str(Lmax))\n",
    "\n",
    "if len(l_query) == 0 or l_query['epochs'].max() < epochs:\n",
    "    print('指定された条件の学習結果は存在しません')\n",
    "else:\n",
    "    index = l_query[l_query['epochs']==epochs].index\n",
    "    model = ANN(input_dim=tap*2, output_dim=2, hidden_neuron=neuron).to(device)\n",
    "    model.load_state_dict(torch.load(l_query['params_path'][index].values[0]))\n",
    "\n",
    "x, y = prepare_val_data(N=13, image_number=image_number, signal_type=signal_type)\n",
    "mean = np.mean(x)\n",
    "std = np.std(x)"
   ]
  },
  {
   "cell_type": "markdown",
   "metadata": {},
   "source": [
    "## 2.3 表示"
   ]
  },
  {
   "cell_type": "code",
   "execution_count": 84,
   "metadata": {},
   "outputs": [
    {
     "data": {
      "image/png": "[encoded data removed]",
      "text/plain": [
       "<Figure size 432x432 with 1 Axes>"
      ]
     },
     "metadata": {
      "needs_background": "light"
     },
     "output_type": "display_data"
    }
   ],
   "source": [
    "x, y = prepare_val_data(N=13, image_number='0', signal_type='prbs')\n",
    "dataset = Dataset(x=x, y=y, mean=mean, std=std)\n",
    "dataloader = data.DataLoader(dataset, batch_size=batch_size, shuffle=False)\n",
    "\n",
    "annc = model(dataset[:][0]).detach().numpy()\n",
    "annc = annc * std + mean\n",
    "annc = annc[:, 0] + annc[:, 1] * 1j\n",
    "y_complex = y[:, 0] + y[:, 1] * 1j\n",
    "\n",
    "symbol, inverse, counts = np.unique(y_complex, return_inverse=True, return_counts=True)\n",
    "\n",
    "lim = 110000\n",
    "cm = plt.get_cmap('rainbow', 16)\n",
    "\n",
    "fig = plt.figure(figsize=(6, 6))\n",
    "ax = fig.add_subplot(1, 1, 1)\n",
    "\n",
    "for i in range(len(symbol)):\n",
    "    ax.plot(annc[y_complex == symbol[i]].real, annc[y_complex == symbol[i]].imag, '.', color=[cm(i)[0], cm(i)[1], cm(i)[2]])\n",
    "for i in range(len(symbol)):\n",
    "    ax.plot(y_complex[y_complex == symbol[i]].real, y_complex[y_complex == symbol[i]].imag, 'o', color=[cm(i)[0], cm(i)[1], cm(i)[2]])\n",
    "ax.set_title('constellation 100%linear+ANN comp.')\n",
    "ax.set_xlim(-lim, lim)\n",
    "ax.set_ylim(-lim, lim);"
   ]
  },
  {
   "cell_type": "code",
   "execution_count": 47,
   "metadata": {},
   "outputs": [
    {
     "name": "stdout",
     "output_type": "stream",
     "text": [
      "0       0\n",
      "1       0\n",
      "2    0, 1\n",
      "3    0, 1\n",
      "Name: image_number, dtype: object\n"
     ]
    }
   ],
   "source": [
    "l_df = pd.read_csv(l_df_dir, index_col=0)\n",
    "for i in range(len(l_df)):\n",
    "    t = l_df.iloc[i]['image_number']\n",
    "    t2 = ''\n",
    "    for j in range(1, len(t), 3):\n",
    "        if j == 1:\n",
    "            t2 = t2 + t[j]\n",
    "        else:\n",
    "            t2 = t2 + ', ' + t[j]\n",
    "        l_df['image_number'].loc[i] = t2\n",
    "print(l_df['image_number'])\n",
    "l_df.to_csv(l_df_dir)"
   ]
  }
 ],
 "metadata": {
  "kernelspec": {
   "display_name": "Python 3",
   "language": "python",
   "name": "python3"
  },
  "language_info": {
   "codemirror_mode": {
    "name": "ipython",
    "version": 3
   },
   "file_extension": ".py",
   "mimetype": "text/x-python",
   "name": "python",
   "nbconvert_exporter": "python",
   "pygments_lexer": "ipython3",
   "version": "3.6.8"
  }
 },
 "nbformat": 4,
 "nbformat_minor": 4
}
