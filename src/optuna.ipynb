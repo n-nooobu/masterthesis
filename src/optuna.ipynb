{
 "cells": [
  {
   "cell_type": "code",
   "execution_count": 1,
   "metadata": {},
   "outputs": [],
   "source": [
    "import sys\n",
    "sys.path.append('../')\n",
    "from pyopt.util import save_pickle, load_pickle\n",
    "\n",
    "study = load_pickle('../results/optuna007.pickle')"
   ]
  },
  {
   "cell_type": "code",
   "execution_count": 2,
   "metadata": {},
   "outputs": [
    {
     "data": {
      "application/vnd.jupyter.widget-view+json": {
       "model_id": "2c4f7a40557247aa9bf00cd292b7fda0",
       "version_major": 2,
       "version_minor": 0
      },
      "text/plain": [
       "HBox(children=(Play(value=1, description='Press play', interval=500, max=50), IntSlider(value=0, max=50)))"
      ]
     },
     "metadata": {},
     "output_type": "display_data"
    },
    {
     "data": {
      "application/vnd.jupyter.widget-view+json": {
       "model_id": "fdaa40e92dd74d97b750e27f6b51efd8",
       "version_major": 2,
       "version_minor": 0
      },
      "text/plain": [
       "Output()"
      ]
     },
     "metadata": {},
     "output_type": "display_data"
    }
   ],
   "source": [
    "import numpy as np\n",
    "from IPython.display import display\n",
    "import matplotlib.pyplot as plt\n",
    "from ipywidgets import Play, IntSlider, jslink, HBox, interactive_output\n",
    "\n",
    "# 結果をプロットする為に値を加工\n",
    "values = [each.value for each in study.trials]\n",
    "s = sum(values)\n",
    "for i in range(len(values)):\n",
    "    values[i] = s / values[i]\n",
    "best_values = [np.min(values[:k + 1]) for k in range(len(values))]\n",
    "n = [each.params['neuron'] for each in study.trials]\n",
    "e = [each.params['epochs'] for each in study.trials]\n",
    "\n",
    "# プロット関数\n",
    "def f(k):\n",
    "    plt.figure(figsize=(9, 4.5))\n",
    "    ax = plt.subplot(121)\n",
    "    ax.set_xlim(np.min(n) - 100, np.max(n) + 100)\n",
    "    ax.set_ylim(np.min(e) - 100, np.max(e) + 100)\n",
    "    ax.scatter(e[:k], n[:k], c=values[:k], cmap='Blues')\n",
    "    ax.scatter(e[k-1], n[k-1], color=[255/255, 127/255, 14/255])\n",
    "\n",
    "    ax = plt.subplot(122)\n",
    "    ax.plot(best_values[:k])\n",
    "    ax.set_yscale('log')\n",
    "    plt.show()\n",
    "\n",
    "# ipywidgetで表示\n",
    "play = Play(value=1, min=0, max=len(study.trials), step=1, interval=500, description='Press play')\n",
    "slider = IntSlider(min=0, max=len(study.trials))\n",
    "jslink((play, 'value'), (slider, 'value'))\n",
    "ui = HBox([play, slider])\n",
    "out = interactive_output(f, {'k': slider})\n",
    "display(ui, out)"
   ]
  },
  {
   "cell_type": "code",
   "execution_count": null,
   "metadata": {},
   "outputs": [],
   "source": []
  }
 ],
 "metadata": {
  "kernelspec": {
   "display_name": "Python 3",
   "language": "python",
   "name": "python3"
  },
  "language_info": {
   "codemirror_mode": {
    "name": "ipython",
    "version": 3
   },
   "file_extension": ".py",
   "mimetype": "text/x-python",
   "name": "python",
   "nbconvert_exporter": "python",
   "pygments_lexer": "ipython3",
   "version": "3.6.8"
  }
 },
 "nbformat": 4,
 "nbformat_minor": 4
}
