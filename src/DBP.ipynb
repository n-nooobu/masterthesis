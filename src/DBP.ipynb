{
 "cells": [
  {
   "cell_type": "code",
   "execution_count": 1,
   "metadata": {},
   "outputs": [],
   "source": [
    "#import\n",
    "import sys\n",
    "\n",
    "import pandas as pd\n",
    "import numpy as np\n",
    "from scipy import special\n",
    "import matplotlib.pyplot as plt\n",
    "%matplotlib inline\n",
    "from tqdm.notebook import tqdm\n",
    "\n",
    "sys.path.append('../')\n",
    "from pyopt.util import fft, ifft, save_pickle, load_pickle, sampling_signal"
   ]
  },
  {
   "cell_type": "code",
   "execution_count": 3,
   "metadata": {},
   "outputs": [],
   "source": [
    "def load_signal(signal_info, trans_condition, n, Lmax):\n",
    "    if signal_info['signal_type'] == 'prbs':\n",
    "        return load_prbs(signal_info, trans_condition, n, Lmax)\n",
    "    elif signal_info['signal_type'] == 'random':\n",
    "        return load_random(signal_info, trans_condition, n, Lmax)\n",
    "    elif signal_info['signal_type'] == 'image':\n",
    "        return load_image(signal_info, trans_condition, n, Lmax)"
   ]
  },
  {
   "cell_type": "code",
   "execution_count": 4,
   "metadata": {},
   "outputs": [],
   "source": [
    "def load_prbs(signal_info, trans_condition, n, Lmax):\n",
    "    N = signal_info['N']\n",
    "    itr = signal_info['itr']\n",
    "    signal_condition = 'N=='+str(N)+'&itr=='+str(itr)\n",
    "    signal_list = [N, itr] + [None] * 6\n",
    "    \n",
    "    # prbs.csvをpandasで読み込む\n",
    "    t_df_dir = '../data/input/'\n",
    "    t_df = pd.read_csv(t_df_dir + 'prbs.csv', index_col=0)\n",
    "    \n",
    "    # prbs.csvにおいて、指定した伝送条件を見たす行を抜き出す\n",
    "    t_query = t_df.query(signal_condition + '&' + trans_condition)\n",
    "    \n",
    "    # if prbs.csvに指定した伝送条件がない or Lmax以外は満たすがLmaxだけ指定した条件未満: 何もしない if ある: 続ける\n",
    "    if len(t_query) == 0 or t_query.iloc[0]['Lmax'] < Lmax:\n",
    "        print('指定された伝送条件の信号が存在しません')\n",
    "        return\n",
    "    else:\n",
    "        # 伝送信号を学習データに整形する\n",
    "        sgnl = load_pickle(t_query.iloc[0]['data_path'])\n",
    "        return sgnl"
   ]
  },
  {
   "cell_type": "code",
   "execution_count": 5,
   "metadata": {},
   "outputs": [],
   "source": [
    "def load_random(signal_info, trans_condition, n, Lmax):\n",
    "    seed = signal_info['seed']\n",
    "    bit_num = signal_info['bit_num']\n",
    "    signal_condition = 'seed=='+str(seed)+'&bit_num=='+str(bit_num)\n",
    "    signal_list = [None] * 2 + [seed, bit_num] + [None] * 4\n",
    "    \n",
    "    # random.csvをpandasで読み込む\n",
    "    t_df_dir = '../data/input/'\n",
    "    t_df = pd.read_csv(t_df_dir + 'random.csv', index_col=0)\n",
    "    \n",
    "    # random.csvにおいて、指定した伝送条件を見たす行を抜き出す\n",
    "    t_query = t_df.query(signal_condition + '&' + trans_condition)\n",
    "    \n",
    "    # if random.csvに指定した伝送条件がない or Lmax以外は満たすがLmaxだけ指定した条件未満: 何もしない if ある: 続ける\n",
    "    if len(t_query) == 0 or t_query.iloc[0]['Lmax'] < Lmax:\n",
    "        print('指定された伝送条件の信号が存在しません')\n",
    "        return\n",
    "    else:\n",
    "        # 伝送信号を学習データに整形する\n",
    "        sgnl = load_pickle(t_query.iloc[0]['data_path'])\n",
    "        return sgnl"
   ]
  },
  {
   "cell_type": "code",
   "execution_count": 6,
   "metadata": {},
   "outputs": [],
   "source": [
    "def load_image(signal_info, trans_condition, n, Lmax):\n",
    "    target_dir = signal_info['target_dir']\n",
    "    step = signal_info['step']\n",
    "    image_number = signal_info['image_number']\n",
    "    image_number_split = image_number.split(', ')\n",
    "    ebtb = signal_info['ebtb']\n",
    "    signal_condition = 'target_dir==\"'+str(target_dir)+'\"&step=='+str(step)+'&image_number==\"'+image_number+'\"&ebtb=='+str(ebtb)\n",
    "    signal_list = [None] * 4 + [target_dir, step, image_number, ebtb]\n",
    "    \n",
    "    # image.csvをpandasで読み込む\n",
    "    t_df_dir = '../data/input/'\n",
    "    t_df = pd.read_csv(t_df_dir + 'image.csv', index_col=0)\n",
    "    \n",
    "    # image.csvにおいて、指定した伝送条件を見たす行を抜き出す\n",
    "    t_query = t_df.query('target_dir==\"'+str(target_dir)+'\"&step=='+str(step)+'&image_number=='+image_number_split[i]+'&ebtb=='+str(ebtb) + '&' + trans_condition)\n",
    "\n",
    "    # if image.csvに指定した伝送条件がない or Lmax以外は満たすがLmaxだけ指定した条件未満: 何もしない if ある: 続ける\n",
    "    if len(t_query) == 0 or t_query.iloc[0]['Lmax'] < Lmax:\n",
    "        print('指定された伝送条件の信号が存在しません')\n",
    "        return\n",
    "    else:\n",
    "        # 伝送信号を学習データに整形する\n",
    "        sgnl = load_pickle(t_query.iloc[0]['data_path'])\n",
    "    return sgnl"
   ]
  },
  {
   "cell_type": "code",
   "execution_count": 43,
   "metadata": {},
   "outputs": [],
   "source": [
    "class DBP:\n",
    "    def __init__(self, sgnl, sampling, stepdbp):\n",
    "        self.sgnl = sgnl\n",
    "        self.n_transmission = self.sgnl.n\n",
    "        self.sampling = sampling\n",
    "        self.stepdbp = stepdbp\n",
    "        \n",
    "        self.input = sampling_signal(self.sgnl.signal['x_0'], self.n_transmission, self.sampling)\n",
    "        \n",
    "        self.sgnl.length = self.sgnl.length // self.sgnl.n * self.sampling\n",
    "        self.sgnl.n = sampling\n",
    "        self.sgnl.Frequency = self.sgnl._frequency()  # 周波数軸[GHz]\n",
    "        self.sgnl.Lambda = self.sgnl._wavelength()  # 波長軸[nm]\n",
    "        self.sgnl.Omega = self.sgnl._omegafrequency() * 10 ** -9\n",
    "    \n",
    "    def dbp(self, Lmax=1000):\n",
    "        self.nlc = sampling_signal(self.sgnl.signal['x_'+str(Lmax)], self.n_transmission, self.sampling)\n",
    "        for _ in tqdm(range(Lmax // self.sgnl.Ledfa)):\n",
    "            self.dbp_1span()\n",
    "        \n",
    "    def dbp_1span(self):\n",
    "        self.nlc /= 10 ** (self.sgnl.Alpha * self.sgnl.Ledfa / 10)\n",
    "        self.nlc = self._digital_back_propagation(self.nlc)\n",
    "    \n",
    "    def _runge_kutta(self, L, x, y=None):\n",
    "        if y is None:\n",
    "            k1 = self.sgnl._sf(x) * L\n",
    "            k2 = self.sgnl._sf(x + k1 / 2) * L\n",
    "            k3 = self.sgnl._sf(x + k2 / 2) * L\n",
    "            k4 = self.sgnl._sf(x + k3) * L\n",
    "            xx = x + (k1 + 2 * k2 + 2 * k3 + k4) / 6\n",
    "            x = x / np.exp(-1j * L / 2 * 2 * np.pi * self.sgnl.n2\n",
    "                           / (self.sgnl.Lambda * 10 ** -9) * (abs(x ** 2) + abs(xx ** 2)))\n",
    "        else:\n",
    "            k1 = self.sgnl._sf(x, y) * L\n",
    "            k2 = self.sgnl._sf(x + k1 / 2, y) * L\n",
    "            k3 = self.sgnl._sf(x + k2 / 2, y) * L\n",
    "            k4 = self.sgnl._sf(x + k3, y) * L\n",
    "            xx = x + (k1 + 2 * k2 + 2 * k3 + k4) / 6\n",
    "            x = x / np.exp(-1j * L / 2 * 2 * np.pi * self.sgnl.n2\n",
    "                           / (self.sgnl.Lambda * 10 ** -9) * (abs(x) ** 2 + abs(xx) ** 2))\n",
    "        return x\n",
    "    \n",
    "    def _digital_back_propagation(self, x, y=None):\n",
    "        dL = self.sgnl.Ledfa / self.stepdbp  # dL[km] 区間一つの長さ\n",
    "        dH = self.sgnl._H(dL / 2)  # dH 区間一つの半分における伝達関数\n",
    "        ddL = dL * 10 ** 3  # ddL[m]\n",
    "\n",
    "        for i in range(self.stepdbp):\n",
    "            \"\"\"伝搬損失の補償\"\"\"\n",
    "            x = x * 10 ** (self.sgnl.Alpha * dL / 2 / 10)  # Alpha = 0.20dB/km dL = 100km のとき1/100\n",
    "            \n",
    "            \"\"\"1区間の後半の周波数領域での線形歪を補償\"\"\"\n",
    "            X = fft(x)\n",
    "            X = X / dH\n",
    "            x = ifft(X)\n",
    "\n",
    "            \"\"\"1区間の実時間領域での非線形効果による位相推移をルンゲ・クッタ法を用いて計算\"\"\"\n",
    "            x = self._runge_kutta(ddL, x, y)\n",
    "            \n",
    "            \"\"\"伝搬損失の補償\"\"\"\n",
    "            x = x * 10 ** (self.sgnl.Alpha * dL / 2 / 10)  # Alpha = 0.20dB/km dL = 100km のとき1/100\n",
    "\n",
    "            \"\"\"1区間の後半の周波数領域での線形歪を計算\"\"\"\n",
    "            X = fft(x)\n",
    "            X = X / dH\n",
    "            x = ifft(X)\n",
    "        return x\n",
    "    \n",
    "    def cal_evm(self, input_signal, output_signal):\n",
    "        tmp = 0\n",
    "        for i in range(len(output_signal)):\n",
    "            tmp += abs(output_signal[i] - input_signal[i]) ** 2 / abs(input_signal[i]) ** 2\n",
    "        evm = np.sqrt(tmp / len(output_signal)) * 100\n",
    "        return evm\n",
    "    \n",
    "    def display_constellation(signal, dtype='complex'):\n",
    "        fig = plt.figure(figsize=(6, 6))\n",
    "        ax = fig.add_subplot()\n",
    "        if dtype == 'complex':\n",
    "            line, = ax.plot(signal.real, signal.imag, '.')\n",
    "        elif dtype == 'array':\n",
    "            line, = ax.plot(signal[:, 0], signal[:, 1], '.')\n",
    "        # ax.legend()\n",
    "        # ax.set_xlim((-150000, 150000))\n",
    "        # ax.set_ylim((-150000, 150000))\n",
    "        ax.xaxis.set_tick_params(direction='in')\n",
    "        ax.yaxis.set_tick_params(direction='in')\n",
    "        plt.tick_params(labelbottom=False,\n",
    "                        labelleft=False,\n",
    "                        labelright=False,\n",
    "                        labeltop=False)\n",
    "        plt.tick_params(bottom=False,\n",
    "                        left=False,\n",
    "                        right=False,\n",
    "                        top=False)\n",
    "        plt.subplots_adjust(left=0.05, bottom=0.05, right=0.95, top=0.95)\n",
    "        plt.show()"
   ]
  },
  {
   "cell_type": "code",
   "execution_count": 27,
   "metadata": {},
   "outputs": [],
   "source": [
    "def dbp_with_save(signal_info, stepdbp):\n",
    "    form = signal_info['form']\n",
    "    sampling = signal_info['sampling']\n",
    "    PdBm = signal_info['PdBm']\n",
    "    Lmax = signal_info['Lmax']\n",
    "    \n",
    "    n = 32  # 1シンボルあたりのサンプリング数[/symbol]\n",
    "    equalize = False  # 各シンボル数を均等にするか\n",
    "    baudrate = 28  # ボーレート[GBaud]\n",
    "    Ledfa = 100  # EDFAスパン[km]\n",
    "    stepedfa = 30  # SSFMの繰り返し計算ステップ数\n",
    "    gamma = 1.4  # 非線形係数[/W/km]\n",
    "    D = 16  # 分散パラメータ[ps/nm/km]\n",
    "    Alpha = 0.16  # 伝送損失[dB/km]\n",
    "    NF = 4  # ASE雑音指数[dB]\n",
    "    ase = True  # ASE雑音を考慮するか\n",
    "\n",
    "    # 指定した伝送条件\n",
    "    trans_condition = 'form==\"'+str(form)+'\"&n=='+str(n)+'&equalize=='+str(equalize)+'&baudrate=='+str(baudrate)+'&PdBm=='+str(PdBm)+'&Ledfa=='+str(Ledfa)+'&stepedfa=='+str(stepedfa)+'&\\\n",
    "                                    gamma=='+str(gamma)+'&D=='+str(D)+'&Alpha=='+str(Alpha)+'&NF=='+str(NF)+'&ase=='+str(ase)\n",
    "\n",
    "    sgnl = load_signal(signal_info, trans_condition, n, Lmax)\n",
    "    \n",
    "    dbp = DBP(sgnl, sampling, stepdbp)\n",
    "    dbp.dbp(Lmax)\n",
    "    \n",
    "    return dbp"
   ]
  },
  {
   "cell_type": "code",
   "execution_count": 54,
   "metadata": {},
   "outputs": [
    {
     "data": {
      "application/vnd.jupyter.widget-view+json": {
       "model_id": "e17c9804e41243299a4686b958dafb8a",
       "version_major": 2,
       "version_minor": 0
      },
      "text/plain": [
       "HBox(children=(FloatProgress(value=0.0, max=10.0), HTML(value='')))"
      ]
     },
     "metadata": {},
     "output_type": "display_data"
    },
    {
     "name": "stdout",
     "output_type": "stream",
     "text": [
      "\n"
     ]
    },
    {
     "data": {
      "text/plain": [
       "6.606692236146776"
      ]
     },
     "execution_count": 54,
     "metadata": {},
     "output_type": "execute_result"
    }
   ],
   "source": [
    "signal_info = {'signal_type': 'prbs', 'N': 13, 'itr': 1, 'form': 'RZ16QAM', 'sampling': 4, 'PdBm': 1, 'Lmax': 1000}\n",
    "stepdbp = 4\n",
    "\n",
    "dbp = dbp_with_save(signal_info, stepdbp)\n",
    "#dbp.cal_evm(dbp.sgnl.signal['x_0'][dbp.sgnl.n//2::dbp.sgnl.n], dbp.nlc[dbp.sgnl.n//2::dbp.sgnl.n])\n",
    "dbp.cal_evm(dbp.input[dbp.sampling // 2::dbp.sampling], dbp.nlc[dbp.sampling // 2::dbp.sampling])"
   ]
  },
  {
   "cell_type": "code",
   "execution_count": 55,
   "metadata": {},
   "outputs": [
    {
     "data": {
      "image/png": "[encoded data removed]",
      "text/plain": [
       "<Figure size 432x432 with 1 Axes>"
      ]
     },
     "metadata": {
      "needs_background": "light"
     },
     "output_type": "display_data"
    }
   ],
   "source": [
    "signal = dbp.nlc[dbp.sampling // 2::dbp.sampling]\n",
    "\n",
    "fig = plt.figure(figsize=(6, 6))\n",
    "ax = fig.add_subplot()\n",
    "line, = ax.plot(signal.real, signal.imag, '.')\n",
    "#dbp.display_constellation(sgnl.signal['x_0'][sgnl.n//2::sgnl.n])"
   ]
  },
  {
   "cell_type": "code",
   "execution_count": null,
   "metadata": {},
   "outputs": [],
   "source": []
  }
 ],
 "metadata": {
  "kernelspec": {
   "display_name": "Python 3",
   "language": "python",
   "name": "python3"
  },
  "language_info": {
   "codemirror_mode": {
    "name": "ipython",
    "version": 3
   },
   "file_extension": ".py",
   "mimetype": "text/x-python",
   "name": "python",
   "nbconvert_exporter": "python",
   "pygments_lexer": "ipython3",
   "version": "3.6.8"
  }
 },
 "nbformat": 4,
 "nbformat_minor": 4
}
